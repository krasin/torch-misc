{
 "cells": [
  {
   "cell_type": "code",
   "execution_count": 1,
   "metadata": {
    "collapsed": false
   },
   "outputs": [],
   "source": [
    "sid = require 'sid'"
   ]
  },
  {
   "cell_type": "code",
   "execution_count": 2,
   "metadata": {
    "collapsed": true
   },
   "outputs": [],
   "source": [
    "require 'torch'\n",
    "require 'nn'\n",
    "require 'nngraph'\n",
    "require 'optim'"
   ]
  },
  {
   "cell_type": "code",
   "execution_count": 3,
   "metadata": {
    "collapsed": false
   },
   "outputs": [
    {
     "data": {
      "text/plain": [
       "model\tnn.Sequential {\n",
       "  [input -> (1) -> (2) -> (3) -> (4) -> output]\n",
       "  (1): nn.Linear(10 -> 4)\n",
       "  (2): nn.ReLU\n",
       "  (3): nn.Linear(4 -> 2)\n",
       "  (4): nn.LogSoftMax\n",
       "}\n",
       "{\n",
       "  gradInput : CudaTensor - empty\n",
       "  modules : \n",
       "    {\n",
       "      1 : \n",
       "        nn.Linear(10 -> 4)\n",
       "        {\n",
       "          gradBias : CudaTensor - size: 4\n",
       "          weight : CudaTensor - size: 4x10\n",
       "          bias : CudaTensor - size: 4\n",
       "          gradInput : CudaTensor - empty\n",
       "          gradWeight : CudaTensor - size: 4x10\n",
       "          output : CudaTensor - empty\n",
       "        }\n",
       "      2 : \n",
       "        nn.ReLU\n",
       "        {\n",
       "          inplace : false\n",
       "          threshold : 0\n",
       "          val : 0\n",
       "          output : CudaTensor - empty\n",
       "          gradInput : CudaTensor - empty\n",
       "        }\n",
       "      3 : \n",
       "        nn.Linear(4 -> 2)\n",
       "        {"
      ]
     },
     "execution_count": 3,
     "metadata": {},
     "output_type": "execute_result"
    },
    {
     "data": {
      "text/plain": [
       "\n",
       "          gradBias : CudaTensor - size: 2\n",
       "          weight : CudaTensor - size: 2x4\n",
       "          bias : CudaTensor - size: 2\n",
       "          gradInput : CudaTensor - empty\n",
       "          gradWeight : CudaTensor - size: 2x4\n",
       "          output : CudaTensor - empty\n",
       "        }\n",
       "      4 : \n",
       "        nn.LogSoftMax\n",
       "        {\n",
       "          gradInput : CudaTensor - empty\n",
       "          output : CudaTensor - empty\n",
       "        }\n",
       "    }\n",
       "  output : CudaTensor - empty\n",
       "}\n",
       "params: \t\n",
       " 54\n",
       "[torch.LongStorage of size 1]\n",
       "\n",
       "torch.CudaTensor\t\n",
       "grad_params: \t\n",
       " 54\n",
       "[torch.LongStorage of size 1]\n",
       "\n",
       "torch.CudaTensor\t\n"
      ]
     },
     "execution_count": 3,
     "metadata": {},
     "output_type": "execute_result"
    }
   ],
   "source": [
    "model, params, grad_params = sid.create('lala', nil, true)\n",
    "print('model', model)\n",
    "print ('params: ', params:size(), params:type())\n",
    "print('grad_params: ', grad_params:size(), params:type())"
   ]
  },
  {
   "cell_type": "code",
   "execution_count": 4,
   "metadata": {
    "collapsed": false
   },
   "outputs": [
    {
     "data": {
      "text/plain": [
       "\n"
      ]
     },
     "execution_count": 4,
     "metadata": {},
     "output_type": "execute_result"
    }
   ],
   "source": [
    "sid.save('kolya.nn', 'lala', nil, params)"
   ]
  },
  {
   "cell_type": "code",
   "execution_count": 5,
   "metadata": {
    "collapsed": false
   },
   "outputs": [
    {
     "data": {
      "text/plain": [
       "false\t\n"
      ]
     },
     "execution_count": 5,
     "metadata": {},
     "output_type": "execute_result"
    }
   ],
   "source": [
    "sid == nil"
   ]
  },
  {
   "cell_type": "code",
   "execution_count": 6,
   "metadata": {
    "collapsed": false
   },
   "outputs": [],
   "source": [
    "model2, arch2, args2, params2, grad_params2 = sid.load('kolya.nn', false)"
   ]
  },
  {
   "cell_type": "code",
   "execution_count": 7,
   "metadata": {
    "collapsed": false
   },
   "outputs": [
    {
     "data": {
      "text/plain": [
       "nn.Sequential {\n",
       "  [input -> (1) -> (2) -> (3) -> (4) -> output]\n",
       "  (1): nn.Linear(10 -> 4)\n",
       "  (2): nn.ReLU\n",
       "  (3): nn.Linear(4 -> 2)\n",
       "  (4): nn.LogSoftMax\n",
       "}\n",
       "{\n",
       "  gradInput : FloatTensor - empty\n",
       "  modules : \n",
       "    {\n",
       "      1 : \n",
       "        nn.Linear(10 -> 4)\n",
       "        {\n",
       "          gradBias : FloatTensor - size: 4\n",
       "          weight : FloatTensor - size: 4x10\n",
       "          bias : FloatTensor - size: 4\n",
       "          gradInput : FloatTensor - empty\n",
       "          gradWeight : FloatTensor - size: 4x10\n",
       "          output : FloatTensor - empty\n",
       "        }\n",
       "      2 : \n",
       "        nn.ReLU\n",
       "        {\n",
       "          inplace : false\n",
       "          threshold : 0\n",
       "          val : 0\n",
       "          output : FloatTensor - empty\n",
       "          gradInput : FloatTensor - empty\n",
       "        }\n",
       "      3 : \n",
       "        nn.Linear(4 -> 2)\n",
       "        {\n",
       "          gradBias : FloatTensor - size: 2\n",
       "          weight : FloatTensor - size: 2x4\n",
       "          bias : FloatTensor - size: 2\n",
       "          gradInput : FloatTensor - empty\n",
       "          gradWeight : FloatTensor - size: 2x4\n",
       "          output : FloatTensor - empty\n",
       "        }\n",
       "      4 : \n",
       "        nn.LogSoftMax\n",
       "        {\n",
       "          gradInput : FloatTensor - empty\n",
       "          output : FloatTensor - empty\n",
       "        }\n",
       "    }\n",
       "  output : FloatTensor - empty\n",
       "}\n"
      ]
     },
     "execution_count": 7,
     "metadata": {},
     "output_type": "execute_result"
    }
   ],
   "source": [
    "model2"
   ]
  },
  {
   "cell_type": "code",
   "execution_count": null,
   "metadata": {
    "collapsed": true
   },
   "outputs": [],
   "source": []
  }
 ],
 "metadata": {
  "kernelspec": {
   "display_name": "iTorch",
   "language": "lua",
   "name": "itorch"
  },
  "language_info": {
   "name": "lua",
   "version": "20100"
  }
 },
 "nbformat": 4,
 "nbformat_minor": 0
}
