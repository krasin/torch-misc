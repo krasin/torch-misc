{
 "cells": [
  {
   "cell_type": "code",
   "execution_count": null,
   "metadata": {
    "collapsed": false
   },
   "outputs": [],
   "source": [
    "sid = require 'sid'"
   ]
  },
  {
   "cell_type": "code",
   "execution_count": null,
   "metadata": {
    "collapsed": true
   },
   "outputs": [],
   "source": [
    "require 'torch'\n",
    "require 'nn'\n",
    "require 'nngraph'\n",
    "require 'optim'"
   ]
  },
  {
   "cell_type": "code",
   "execution_count": null,
   "metadata": {
    "collapsed": false
   },
   "outputs": [],
   "source": [
    "function create_new(arch, args)\n",
    "    if arch == 'lala' then\n",
    "      local mlp = nn.Sequential()\n",
    "      local lin1 = nn.Linear(4, 4)\n",
    "      mlp:add(lin1)\n",
    "      mlp:add(nn.ReLU(false))\n",
    "      local lin2 = nn.Linear(4, 4)\n",
    "      print('lin1.weight (before share): ', lin1.weight)\n",
    "      print('lin2.weight (before share): ', lin2.weight)\n",
    "      lin2:share(lin1, 'weight', 'bias')\n",
    "      print('lin1.weight (after share): ', lin1.weight)\n",
    "      print('lin2.weight (after share): ', lin2.weight)\n",
    "      mlp:add(lin2)\n",
    "      mlp:add(nn.LogSoftMax())\n",
    "      return mlp\n",
    "    end\n",
    "    error(string.format('unknown arch %s', arch))\n",
    "end\n",
    "\n",
    "sid.register_arch('lala', create_new)"
   ]
  },
  {
   "cell_type": "code",
   "execution_count": null,
   "metadata": {
    "collapsed": false
   },
   "outputs": [],
   "source": [
    "model, params, grad_params = sid.create('lala', nil, true)\n",
    "--print ('params: ', params:size(), params:type())\n",
    "--print('grad_params: ', grad_params:size(), params:type())"
   ]
  },
  {
   "cell_type": "code",
   "execution_count": null,
   "metadata": {
    "collapsed": false
   },
   "outputs": [],
   "source": [
    "sid.save('kolya.nn', 'lala', nil, params)"
   ]
  },
  {
   "cell_type": "code",
   "execution_count": null,
   "metadata": {
    "collapsed": false
   },
   "outputs": [],
   "source": [
    "sid == nil"
   ]
  },
  {
   "cell_type": "code",
   "execution_count": null,
   "metadata": {
    "collapsed": false
   },
   "outputs": [],
   "source": [
    "model2, arch2, args2, params2, grad_params2 = sid.load('kolya.nn', false)"
   ]
  },
  {
   "cell_type": "code",
   "execution_count": null,
   "metadata": {
    "collapsed": false
   },
   "outputs": [],
   "source": [
    "model2"
   ]
  },
  {
   "cell_type": "code",
   "execution_count": null,
   "metadata": {
    "collapsed": true
   },
   "outputs": [],
   "source": []
  }
 ],
 "metadata": {
  "kernelspec": {
   "display_name": "iTorch",
   "language": "lua",
   "name": "itorch"
  },
  "language_info": {
   "name": "lua",
   "version": "20100"
  }
 },
 "nbformat": 4,
 "nbformat_minor": 0
}
