{
 "cells": [
  {
   "cell_type": "code",
   "execution_count": null,
   "metadata": {
    "collapsed": true
   },
   "outputs": [],
   "source": [
    "require 'torch'\n",
    "require 'nn'\n",
    "require 'image'\n",
    "mnist = require 'mnist'"
   ]
  },
  {
   "cell_type": "code",
   "execution_count": null,
   "metadata": {
    "collapsed": false
   },
   "outputs": [],
   "source": [
    "-- Whether to use CUDA, -1: use CPU, >=0: use corresponding GPU\n",
    "gpuid = 0\n",
    "if gpuid >= 0 then\n",
    "    use_cuda = true\n",
    "    print('using CUDA on GPU ' .. gpuid .. '...')\n",
    "    require 'cutorch'\n",
    "    require 'cunn'\n",
    "    cutorch.setDevice(gpuid + 1) -- note +1 to make it 0 indexed! sigh lua\n",
    "end"
   ]
  },
  {
   "cell_type": "code",
   "execution_count": null,
   "metadata": {
    "collapsed": false
   },
   "outputs": [],
   "source": [
    "state = mnist.load('checkpoints/mnist-2015-6-18-17-38-0.9939.nn', use_cuda)\n",
    "print ('params: ', state.dog.params:type(), state.dog.params:storage():size())\n",
    "print (string.format('mean: %s, std: %s', state.mean, state.std))"
   ]
  },
  {
   "cell_type": "code",
   "execution_count": null,
   "metadata": {
    "collapsed": false
   },
   "outputs": [],
   "source": [
    "digits = image.load('data/digits.png', 1, 'byte')\n",
    "digits = image.scale(digits, 320, 320)\n",
    "digits = digits:float()\n",
    "digits:add(-state.mean)\n",
    "digits:div(state.std)\n",
    "print(string.format('digits mean: %s', digits:mean()))\n",
    "print(string.format('digits std: %s', digits:std()))\n",
    "itorch.image(digits)"
   ]
  },
  {
   "cell_type": "code",
   "execution_count": null,
   "metadata": {
    "collapsed": false,
    "scrolled": false
   },
   "outputs": [],
   "source": [
    "good_cnt = 0\n",
    "bad_cnt = 0\n",
    "for i = 1, 10 do\n",
    "  for j = 1, 10 do\n",
    "    local x = digits:narrow(2, (i-1)*32 + 1, 32):narrow(3, (j-1)*32 + 1, 32)\n",
    "    local num = state:predict(x:reshape(1, 1, 32, 32))[1][1]-1\n",
    "    if num == i % 10 then\n",
    "        good_cnt = good_cnt + 1\n",
    "        -- print(string.format('%s - OK', num))\n",
    "    else\n",
    "        bad_cnt = bad_cnt + 1\n",
    "        itorch.image(x)\n",
    "        print(string.format('%s - error!', num))\n",
    "    end\n",
    "  end\n",
    "end\n",
    "print(string.format('Accuracy: %s%%', good_cnt))\n",
    "print(string.format('Error: %s%%', bad_cnt))"
   ]
  },
  {
   "cell_type": "code",
   "execution_count": null,
   "metadata": {
    "collapsed": false
   },
   "outputs": [],
   "source": [
    "state2 = mnist.State(use_cuda)\n",
    "state2:create_new('mnist_conv', nil)\n",
    "state2:load_data('data/mnist.t7')\n",
    "print('mean: ', state2.mean)\n",
    "print('std: ', state2.std)\n",
    "print('cur mean: ', state2.test_data.data:mean())\n",
    "print('cur std: ', state2.test_data.data:std())"
   ]
  },
  {
   "cell_type": "code",
   "execution_count": null,
   "metadata": {
    "collapsed": false,
    "scrolled": false
   },
   "outputs": [],
   "source": [
    "fours = {}\n",
    "for i = 1, 100 do\n",
    "    if state2.train_data.labels[i] == 5 then -- digit 4\n",
    "        table.insert(fours, state2.train_data.data[i])\n",
    "    end\n",
    "end\n",
    "itorch.image(fours)"
   ]
  },
  {
   "cell_type": "code",
   "execution_count": null,
   "metadata": {
    "collapsed": false
   },
   "outputs": [],
   "source": [
    "itorch.image(state2.train_data.data[1])"
   ]
  },
  {
   "cell_type": "code",
   "execution_count": null,
   "metadata": {
    "collapsed": false
   },
   "outputs": [],
   "source": [
    "itorch.image(image.rotate(state2.train_data.data[1], 0.0, 'bilinear'))"
   ]
  },
  {
   "cell_type": "code",
   "execution_count": null,
   "metadata": {
    "collapsed": false
   },
   "outputs": [],
   "source": [
    "state = nil\n",
    "state2 = nil\n",
    "collectgarbage()"
   ]
  },
  {
   "cell_type": "code",
   "execution_count": null,
   "metadata": {
    "collapsed": false
   },
   "outputs": [],
   "source": [
    "state:load_data('data/mnist.t7')"
   ]
  },
  {
   "cell_type": "code",
   "execution_count": null,
   "metadata": {
    "collapsed": false
   },
   "outputs": [],
   "source": [
    "print('train acc:', state:train_accuracy())\n",
    "print('val acc: ', state:val_accuracy())"
   ]
  },
  {
   "cell_type": "code",
   "execution_count": null,
   "metadata": {
    "collapsed": false
   },
   "outputs": [],
   "source": [
    "freeMemory, totalMemory = cutorch.getMemoryUsage(1)\n",
    "print('total GPU memory: ', totalMemory)\n",
    "print('free GPU memory: ', freeMemory)"
   ]
  },
  {
   "cell_type": "code",
   "execution_count": null,
   "metadata": {
    "collapsed": false
   },
   "outputs": [],
   "source": [
    "print('test acc: ', state:test_accuracy())"
   ]
  },
  {
   "cell_type": "code",
   "execution_count": null,
   "metadata": {
    "collapsed": true
   },
   "outputs": [],
   "source": []
  }
 ],
 "metadata": {
  "kernelspec": {
   "display_name": "iTorch",
   "language": "lua",
   "name": "itorch"
  },
  "language_info": {
   "name": "lua",
   "version": "20100"
  }
 },
 "nbformat": 4,
 "nbformat_minor": 0
}
