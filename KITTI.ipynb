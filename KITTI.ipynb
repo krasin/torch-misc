{
 "cells": [
  {
   "cell_type": "code",
   "execution_count": null,
   "metadata": {
    "collapsed": false
   },
   "outputs": [],
   "source": [
    "require 'image'\n",
    "require 'lfs'"
   ]
  },
  {
   "cell_type": "code",
   "execution_count": null,
   "metadata": {
    "collapsed": false,
    "scrolled": false
   },
   "outputs": [],
   "source": [
    "left = image.load('data/kitti_stereo/training/image_0/000127_10.png');\n",
    "right = image.load('data/kitti_stereo/training/image_1/000127_10.png');\n",
    "disp = image.load('data/kitti_stereo/training/disp_noc/000127_10.png', 1, 'float');\n",
    "disp = disp:mul(65535/256)\n",
    "print(string.format('Disp:max: %s', disp:max()))\n",
    "itorch.image(left);\n",
    "itorch.image(right);\n",
    "itorch.image(disp);\n",
    "\n",
    "apxRight = torch.Tensor(left:size())\n",
    "apxRight:fill(0)\n",
    "for y = 1, left:size(2) do\n",
    "    for x = 1, left:size(3) do\n",
    "        local idx = math.min(x+disp[1][y][x], left:size(3))\n",
    "        if idx ~= x then\n",
    "          apxRight[1][y][idx] = left[1][y][x]\n",
    "        end\n",
    "    end\n",
    "end\n",
    "\n",
    "itorch.image(apxRight);\n",
    "\n",
    "--diff = right:type('torch.FloatTensor') - apxRight:type('torch:FloatTensor')\n",
    "--itorch.image(diff)\n",
    "\n",
    "--print(left:size(), right:size(), disp:size());"
   ]
  },
  {
   "cell_type": "code",
   "execution_count": null,
   "metadata": {
    "collapsed": false
   },
   "outputs": [],
   "source": [
    "st = torch.ByteStorage('/mnt/kitti_stereo/snippets.3x23830116x9x9.byte_tensor')\n",
    "tt = torch.ByteTensor(st, 1, torch.LongStorage({3, 23830116, 9, 9}))\n",
    "print('loaded ', tt:size())"
   ]
  },
  {
   "cell_type": "code",
   "execution_count": null,
   "metadata": {
    "collapsed": false
   },
   "outputs": [],
   "source": [
    "tt[{{3}, {}, {1}, {1}}]:float():size()"
   ]
  }
 ],
 "metadata": {
  "kernelspec": {
   "display_name": "iTorch",
   "language": "lua",
   "name": "itorch"
  },
  "language_info": {
   "name": "lua",
   "version": "20100"
  }
 },
 "nbformat": 4,
 "nbformat_minor": 0
}
