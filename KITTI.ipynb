{
 "cells": [
  {
   "cell_type": "code",
   "execution_count": null,
   "metadata": {
    "collapsed": false
   },
   "outputs": [],
   "source": [
    "require 'image';"
   ]
  },
  {
   "cell_type": "code",
   "execution_count": null,
   "metadata": {
    "collapsed": false,
    "scrolled": false
   },
   "outputs": [],
   "source": [
    "left = image.load('data/kitti_stereo/training/image_0/000127_10.png');\n",
    "right = image.load('data/kitti_stereo/training/image_1/000127_10.png');\n",
    "disp = image.load('data/kitti_stereo/training/disp_noc/000127_10.png', 1, 'byte');\n",
    "itorch.image(left);\n",
    "itorch.image(right);\n",
    "itorch.image(disp);\n",
    "\n",
    "apxRight = torch.Tensor(left:size())\n",
    "apxRight:fill(0)\n",
    "for y = 1, left:size(2) do\n",
    "    for x = 1, left:size(3) do\n",
    "        local idx = math.min(x+disp[1][y][x], left:size(3))\n",
    "        if idx ~= x then\n",
    "          apxRight[1][y][idx] = left[1][y][x]\n",
    "        end\n",
    "    end\n",
    "end\n",
    "\n",
    "itorch.image(apxRight);\n",
    "\n",
    "--diff = right:type('torch.FloatTensor') - apxRight:type('torch:FloatTensor')\n",
    "--itorch.image(diff)\n",
    "\n",
    "--print(left:size(), right:size(), disp:size());"
   ]
  }
 ],
 "metadata": {
  "kernelspec": {
   "display_name": "iTorch",
   "language": "lua",
   "name": "itorch"
  },
  "language_info": {
   "name": "lua",
   "version": "20100"
  }
 },
 "nbformat": 4,
 "nbformat_minor": 0
}
