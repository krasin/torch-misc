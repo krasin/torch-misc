{
 "cells": [
  {
   "cell_type": "code",
   "execution_count": null,
   "metadata": {
    "collapsed": false
   },
   "outputs": [],
   "source": [
    "require 'image'\n",
    "require 'lfs'"
   ]
  },
  {
   "cell_type": "code",
   "execution_count": null,
   "metadata": {
    "collapsed": true
   },
   "outputs": [],
   "source": [
    "function extract_snippets(snippets, fname)\n",
    "    local left = image.load('data/kitti_stereo/training/image_0/' .. fname);\n",
    "    local right = image.load('data/kitti_stereo/training/image_1/' .. fname);\n",
    "    local disp = image.load('data/kitti_stereo/training/disp_noc/' .. fname, 1, 'float');\n",
    "    disp = disp:mul(65535/256)\n",
    "\n",
    "    local count = 0\n",
    "    for y = 9, left:size(2) - 9 do\n",
    "        for x = 9, left:size(3) - 9 do\n",
    "            if disp[1][y][x] > 0 and x - disp[1][y][x] > 9 then\n",
    "                local left_snip = image.scale(left:narrow(2, y-4, 9):narrow(3, x-4, 9), 36, 36, 'simple'):clone()\n",
    "                local x2 = x - disp[1][y][x]\n",
    "                x2 = math.floor(x2+0.5)\n",
    "                local right_snip = image.scale(right:narrow(2, y-4, 9):narrow(3, x2-4, 9), 36, 36, 'simple'):clone()\n",
    "                count = count + 1\n",
    "                -- table.insert(snippets, { left = left_snip, right = right_snip })\n",
    "            end\n",
    "        end\n",
    "    end\n",
    "    collectgarbage()\n",
    "    return count\n",
    "end"
   ]
  },
  {
   "cell_type": "code",
   "execution_count": null,
   "metadata": {
    "collapsed": false,
    "scrolled": false
   },
   "outputs": [],
   "source": [
    "left = image.load('data/kitti_stereo/training/image_0/000127_10.png');\n",
    "right = image.load('data/kitti_stereo/training/image_1/000127_10.png');\n",
    "disp = image.load('data/kitti_stereo/training/disp_noc/000127_10.png', 1, 'float');\n",
    "disp = disp:mul(65535/256)\n",
    "print(string.format('Disp:max: %s', disp:max()))\n",
    "itorch.image(left);\n",
    "itorch.image(right);\n",
    "itorch.image(disp);\n",
    "\n",
    "apxRight = torch.Tensor(left:size())\n",
    "apxRight:fill(0)\n",
    "for y = 1, left:size(2) do\n",
    "    for x = 1, left:size(3) do\n",
    "        local idx = math.min(x+disp[1][y][x], left:size(3))\n",
    "        if idx ~= x then\n",
    "          apxRight[1][y][idx] = left[1][y][x]\n",
    "        end\n",
    "    end\n",
    "end\n",
    "\n",
    "itorch.image(apxRight);\n",
    "\n",
    "--diff = right:type('torch.FloatTensor') - apxRight:type('torch:FloatTensor')\n",
    "--itorch.image(diff)\n",
    "\n",
    "--print(left:size(), right:size(), disp:size());"
   ]
  },
  {
   "cell_type": "code",
   "execution_count": null,
   "metadata": {
    "collapsed": false
   },
   "outputs": [],
   "source": [
    "local path_left = 'data/kitti_stereo/training/disp_noc'\n",
    "snippets = {}\n",
    "total = 0\n",
    "for fname in lfs.dir(path_left) do\n",
    "    if fname ~= \".\" and fname ~= \"..\" then\n",
    "        local f = path_left .. '/' .. fname\n",
    "        local attr = lfs.attributes(f)\n",
    "        if attr.mode == \"file\" and string.match(fname, '[.]png$') then\n",
    "            local count = extract_snippets(snippets, fname)\n",
    "            total = total + count\n",
    "            print(string.format('%s - %d snippets (%d total)', fname, count, total))\n",
    "        end\n",
    "    end\n",
    "end\n",
    "print(string.format('Loaded %d snippets', total))"
   ]
  },
  {
   "cell_type": "code",
   "execution_count": null,
   "metadata": {
    "collapsed": true
   },
   "outputs": [],
   "source": []
  }
 ],
 "metadata": {
  "kernelspec": {
   "display_name": "iTorch",
   "language": "lua",
   "name": "itorch"
  },
  "language_info": {
   "name": "lua",
   "version": "20100"
  }
 },
 "nbformat": 4,
 "nbformat_minor": 0
}
