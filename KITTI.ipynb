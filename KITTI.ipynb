{
 "cells": [
  {
   "cell_type": "code",
   "execution_count": null,
   "metadata": {
    "collapsed": false
   },
   "outputs": [],
   "source": [
    "require 'image'\n",
    "require 'lfs'"
   ]
  },
  {
   "cell_type": "code",
   "execution_count": null,
   "metadata": {
    "collapsed": true
   },
   "outputs": [],
   "source": [
    "function extract_snippets(fname, snippets, index)\n",
    "    local left = image.load('data/kitti_stereo/training/image_0/' .. fname, 1, 'byte');\n",
    "    local right = image.load('data/kitti_stereo/training/image_1/' .. fname, 1, 'byte');\n",
    "    local disp = image.load('data/kitti_stereo/training/disp_noc/' .. fname, 1, 'float');\n",
    "    disp = disp:mul(65535/256)\n",
    "\n",
    "    local count = 0\n",
    "    for y = 9, left:size(2) - 9 do\n",
    "        for x = 9, left:size(3) - 9 do\n",
    "            if disp[1][y][x] > 0 and x - disp[1][y][x] > 9 then\n",
    "                local left_snip = left:narrow(2, y-4, 9):narrow(3, x-4, 9)\n",
    "                local x2 = x - disp[1][y][x]\n",
    "                x2 = math.floor(x2+0.5)\n",
    "                local right_snip = right:narrow(2, y-4, 9):narrow(3, x2-4, 9)\n",
    "                count = count + 1\n",
    "                if snippets ~= nil then\n",
    "                    snippets[1][index+count-1]:copy(left_snip[1])\n",
    "                    snippets[2][index+count-1]:copy(right_snip[1])\n",
    "                end\n",
    "            end\n",
    "        end\n",
    "    end\n",
    "    collectgarbage()\n",
    "    return count\n",
    "end"
   ]
  },
  {
   "cell_type": "code",
   "execution_count": null,
   "metadata": {
    "collapsed": false,
    "scrolled": false
   },
   "outputs": [],
   "source": [
    "left = image.load('data/kitti_stereo/training/image_0/000127_10.png');\n",
    "right = image.load('data/kitti_stereo/training/image_1/000127_10.png');\n",
    "disp = image.load('data/kitti_stereo/training/disp_noc/000127_10.png', 1, 'float');\n",
    "disp = disp:mul(65535/256)\n",
    "print(string.format('Disp:max: %s', disp:max()))\n",
    "itorch.image(left);\n",
    "itorch.image(right);\n",
    "itorch.image(disp);\n",
    "\n",
    "apxRight = torch.Tensor(left:size())\n",
    "apxRight:fill(0)\n",
    "for y = 1, left:size(2) do\n",
    "    for x = 1, left:size(3) do\n",
    "        local idx = math.min(x+disp[1][y][x], left:size(3))\n",
    "        if idx ~= x then\n",
    "          apxRight[1][y][idx] = left[1][y][x]\n",
    "        end\n",
    "    end\n",
    "end\n",
    "\n",
    "itorch.image(apxRight);\n",
    "\n",
    "--diff = right:type('torch.FloatTensor') - apxRight:type('torch:FloatTensor')\n",
    "--itorch.image(diff)\n",
    "\n",
    "--print(left:size(), right:size(), disp:size());"
   ]
  },
  {
   "cell_type": "code",
   "execution_count": null,
   "metadata": {
    "collapsed": false,
    "scrolled": false
   },
   "outputs": [],
   "source": [
    "local path_left = 'data/kitti_stereo/training/disp_noc'\n",
    "expected_total = 24034491\n",
    "file_name = string.format('/mnt/kitti/snippets.2x%dx9x9.byte_tensor', expected_total)\n",
    "file_size = 2 * expected_total * 9 * 9\n",
    "print('Creating a storage ...')\n",
    "snippets_storage = torch.ByteStorage(file_name, true, file_size)\n",
    "print('Storage created. Creating a tensor ...')\n",
    "snippets = torch.ByteTensor(snippets_storage, 1, torch.LongStorage({2, expected_total, 9, 9}))\n",
    "print('snippets: ', snippets:size())\n",
    "\n",
    "total = 0\n",
    "for fname in lfs.dir(path_left) do\n",
    "    if fname ~= \".\" and fname ~= \"..\" then\n",
    "        local f = path_left .. '/' .. fname\n",
    "        local attr = lfs.attributes(f)\n",
    "        if attr.mode == \"file\" and string.match(fname, '[.]png$') then\n",
    "            local count = extract_snippets(fname, snippets, total+1)\n",
    "            total = total + count\n",
    "            print(string.format('%s - %d snippets (%d total)', fname, count, total))\n",
    "        end\n",
    "    end\n",
    "end\n",
    "print(string.format('Loaded %d snippets, expected %d snippets', total, expected_total))\n",
    "if expected_total == total then\n",
    "    print('Expectations and reality match - OK')\n",
    "else\n",
    "    print('Unexpected number of snippets - Error')\n",
    "end"
   ]
  }
 ],
 "metadata": {
  "kernelspec": {
   "display_name": "iTorch",
   "language": "lua",
   "name": "itorch"
  },
  "language_info": {
   "name": "lua",
   "version": "20100"
  }
 },
 "nbformat": 4,
 "nbformat_minor": 0
}
